{
 "cells": [
  {
   "cell_type": "code",
   "execution_count": 3,
   "metadata": {},
   "outputs": [],
   "source": [
    "import pandas as pd\n",
    "import numpy as np\n",
    "\n",
    "\n",
    "# Visualization\n",
    "import matplotlib.pyplot as plt\n",
    "import seaborn as sns\n",
    "\n",
    "plt.style.use('ggplot')\n",
    "\n",
    "# Regex\n",
    "import re\n"
   ]
  },
  {
   "cell_type": "markdown",
   "metadata": {},
   "source": [
    "## Introdução\n",
    "\n",
    "Foi proposto um desafio pela empresa Data Sprints como um desafio técnico para a área da engenharia de dados. O desafio consiste na utilização de uma mistura de Python com SQL para realização de uma modelagem de dados em conjunto com uma análise desses dados que ocorrerá posteriormente.\n",
    "\n",
    "Os dados que foram providenciados se referem a corridas de taxi que ocorreram entre *2009* e 2012** em Nova York. Esses dados estão divididos em quatro arquivos e cada um deles possui, aproximadamente, 400MB.\n",
    "\n",
    "Além desses dados referentes as corridas, também existem dois datasets com informações a respeito das empresas de taxi e com relação aos meios de pagamento.\n",
    "\n",
    "Com esse intuito, pretendo utilizar a seguinte abordagem para a realização da modelagem de dados:\n",
    "\n",
    "1. Obtenção de uma amostra pequena desses dados para que possa ser realizada uma comparação entre os queries que utilizarei para realizar a modelagem final com os resultados obtidos utilizando Pandas. A biblioteca Pandas é mais flexível no processo de análise de dados, no entanto, o processamento de grandes bases de dados se torna lenta, apesar de ser possível.\n",
    "2. Será criada um banco de dados de desenvolvimento para prototipagem do banco de dados. Para tanto, será utilizado o banco de dados *PostgresSQL*\n",
    "3. Após a validação do modelo que será utilizado, assim como as consultas que serão realizadas ao banco de dados para extração das informações que foram solicitadas, será utilizado um cluster da ferramenta Amazon Redshift para realização do mesmo processo com todos os dados fornecidos.\n"
   ]
  },
  {
   "cell_type": "markdown",
   "metadata": {},
   "source": [
    "## Exploração Inicial dos dados"
   ]
  },
  {
   "cell_type": "markdown",
   "metadata": {},
   "source": [
    "Dentre as informações que podem ser obtidas através da análise desses dados, algumas informações são mais importantes para a empresa Data Sprints. Sendo elas:\n",
    "- Distância média percorrida em viagens com até dois passageiros.\n",
    "- Quantidade arrecada pelas três maiores empresas de taxi\n",
    "- Distribuição das corridas entre 2009 e 2012 realizadas por passageiros que realizaram o pagamento em dinheiro.\n",
    "- Quantidade de gorgetas por dia que ocorreram entre Outubro de 2012 e Dezembro de 2012.\n",
    "\n",
    "\n",
    "Com o intuito de utilizar uma base de dados pequena (de fácil validação) e, ao mesmo tempo, conseguir trabalhar nos queries necessários para responder essas questões utilizarei os dados dos últimos meses do dataset do ano 2012. No entanto, é importante destacar que será necessário outra forma de validação para a terceira pergunta.\n",
    "\n",
    "Com o intuito de obter a amostragem necessária, será utilizado o método `.sample()` da biblioteca pandas para adquirir 100.000 linhas aleatórias do ano de 2012. Para possibilitar a reprodução das análises que serão realizadas nessa amostra, utilizarei o argumento `random_state=42`.\n",
    "\n",
    "Os dados adquiridos serão salvos no arquivo `sample.csv`\n",
    "\n",
    "\n"
   ]
  },
  {
   "cell_type": "markdown",
   "metadata": {},
   "source": [
    "### Extração da amostra através da utilização do Spark"
   ]
  },
  {
   "cell_type": "code",
   "execution_count": 5,
   "metadata": {},
   "outputs": [
    {
     "name": "stdout",
     "output_type": "stream",
     "text": [
      "CPU times: user 9.76 s, sys: 1.65 s, total: 11.4 s\n",
      "Wall time: 13.3 s\n"
     ]
    }
   ],
   "source": [
    "%time df = pd.read_json('/home/rafael/Downloads/data-sample_data-nyctaxi-trips-2012-json_corrigido.json', lines=True)"
   ]
  },
  {
   "cell_type": "markdown",
   "metadata": {},
   "source": [
    "Uma das vantagens do Spark é porque ele possui um atributo chamado *SchemaOnRead* que tenta inferir os tipo de dados de cada uma das colunas do DataFrame.\n",
    "\n",
    "Nesse dataframe especificamente, as colunas relacionadas a datas foram transformadas em strings, o que não deveria ocorrer se os dados dessas colunas estivessem em um formato reconhecível pelo Spark."
   ]
  },
  {
   "cell_type": "markdown",
   "metadata": {},
   "source": [
    "Através da observação desses valores, pode-se observar que aleḿ das medidas comuns para datas e para o tempo, também está sendo utilizado milissegundos.\n",
    "\n",
    "Com o intuito de transformar esses valores sem perda de informação, realizarei a conversão desses valores para um timestamp unix. Essa coluna conterá esses valores transformados em uma epoch com milisegundos (básicamente quantos milisegundos passaram desde a epoch `01-01-1970`. Posteriormente, será possível realizar a extração de dados como dia, mês, ano e horário dessas variável."
   ]
  },
  {
   "cell_type": "code",
   "execution_count": 6,
   "metadata": {},
   "outputs": [
    {
     "name": "stdout",
     "output_type": "stream",
     "text": [
      "CPU times: user 1.52 s, sys: 28 ms, total: 1.54 s\n",
      "Wall time: 1.68 s\n"
     ]
    }
   ],
   "source": [
    "%%time \n",
    "df = df.sample(100000, random_state=42)\n",
    "df.to_csv('sample_2012.csv', index=False)"
   ]
  },
  {
   "cell_type": "code",
   "execution_count": 7,
   "metadata": {},
   "outputs": [],
   "source": [
    "df = pd.read_csv('sample_2012.csv')"
   ]
  },
  {
   "cell_type": "markdown",
   "metadata": {},
   "source": [
    "#### Parsing Dates"
   ]
  },
  {
   "cell_type": "markdown",
   "metadata": {},
   "source": [
    "As datas estão disponibilizadas em um formato que não é reconhecido pela biblioteca Pandas. Por conta disso, será criada uma função que utilizará regex para tranformar esses dados em um formato aceito pelo pandas. \n",
    "\n",
    "Sendo válido destacar que há dois padrões de representação presente nos dados. Em um dos casos há a inclusão de milisegundos, enquanto no segundo padrão não há.\n",
    "\n",
    "Os dados serão convertidos para o seguinte formato:  \n",
    "- `AAAA-MM-DD HH:MM:DD.ffffff`"
   ]
  },
  {
   "cell_type": "code",
   "execution_count": 8,
   "metadata": {},
   "outputs": [
    {
     "data": {
      "text/plain": [
       "0    2012-02-29T21:36:01.135894+00:00\n",
       "1    2012-01-10T10:34:22.332916+00:00\n",
       "2      2012-08-03T04:18:55.3544+00:00\n",
       "3    2012-09-05T02:59:10.862789+00:00\n",
       "4     2012-09-15T04:04:42.71513+00:00\n",
       "Name: pickup_datetime, dtype: object"
      ]
     },
     "execution_count": 8,
     "metadata": {},
     "output_type": "execute_result"
    }
   ],
   "source": [
    "df['pickup_datetime'].head()"
   ]
  },
  {
   "cell_type": "code",
   "execution_count": 9,
   "metadata": {},
   "outputs": [],
   "source": [
    "import datetime\n",
    "\n",
    "def parsing_date(value):\n",
    "    value = value.replace('T', ' ').replace('+00:00', '')\n",
    "    \n",
    "    if re.match('(\\d{4}-\\d{2}-\\d{2}\\s\\d{2}:\\d{2}:\\d{2}.\\d{1,6}$)', value):\n",
    "        date = datetime.datetime.strptime(value, \"%Y-%m-%d %H:%M:%S.%f\")\n",
    "        \n",
    "    else:\n",
    "        date = datetime.datetime.strptime(value, \"%Y-%m-%d %H:%M:%S\")\n",
    "        \n",
    "    return date\n",
    "\n",
    "\n",
    "date_columns = ['dropoff_datetime','pickup_datetime']\n",
    "for column in date_columns:\n",
    "    df[column] = pd.to_datetime(df[column].map(parsing_date))"
   ]
  },
  {
   "cell_type": "code",
   "execution_count": 10,
   "metadata": {},
   "outputs": [],
   "source": [
    "dataset_information = []\n",
    "for column in df:\n",
    "    dataset_information.append({\n",
    "        'column': column,\n",
    "        'max_size': df[column].map(str).map(len).max(),\n",
    "        'type': df[column].dtype,\n",
    "        'not_unique_percent': df[column].duplicated().sum() / len(df)\n",
    "    })\n",
    "        \n",
    "    "
   ]
  },
  {
   "cell_type": "code",
   "execution_count": 11,
   "metadata": {},
   "outputs": [
    {
     "data": {
      "image/png": "[encoded data removed]",
      "text/plain": [
       "<Figure size 864x432 with 2 Axes>"
      ]
     },
     "metadata": {},
     "output_type": "display_data"
    }
   ],
   "source": [
    "dataset_information = pd.DataFrame(dataset_information)\n",
    "\n",
    "fig, ax = plt.subplots(figsize=(12,6), ncols=2, sharey=True)\n",
    "\n",
    "\n",
    "ax[0].barh(dataset_information['column'], dataset_information['max_size'])\n",
    "ax[1].barh(dataset_information['column'], dataset_information['not_unique_percent'])\n",
    "\n",
    "ax[0].set_xlabel('tamanho máximo')\n",
    "ax[1].set_xlabel('percentual de valores repetidos')\n",
    "\n",
    "ax[0].set_title('tamanho máximo')\n",
    "ax[1].set_title('percentual de valores repetidos')\n",
    "\n",
    "plt.suptitle('Características dos dados')\n",
    "plt.show()"
   ]
  },
  {
   "cell_type": "markdown",
   "metadata": {},
   "source": [
    "A partir da análise das informações acima, será possível estabelecer o tipo de dados que será utilizado no banco de dados tanto para colunas numéricas, como para textos.\n",
    "\n",
    "Um ponto importante é que as únicas colunas em que todos os valores são únicos são referentes as datas por conta da precisão em milisegundos de cada uma das corridas.\n",
    "\n",
    "\n",
    "#### Tipos de dados"
   ]
  },
  {
   "cell_type": "code",
   "execution_count": 12,
   "metadata": {},
   "outputs": [
    {
     "data": {
      "text/html": [
       "<div>\n",
       "<style scoped>\n",
       "    .dataframe tbody tr th:only-of-type {\n",
       "        vertical-align: middle;\n",
       "    }\n",
       "\n",
       "    .dataframe tbody tr th {\n",
       "        vertical-align: top;\n",
       "    }\n",
       "\n",
       "    .dataframe thead th {\n",
       "        text-align: right;\n",
       "    }\n",
       "</style>\n",
       "<table border=\"1\" class=\"dataframe\">\n",
       "  <thead>\n",
       "    <tr style=\"text-align: right;\">\n",
       "      <th></th>\n",
       "      <th>column</th>\n",
       "      <th>type</th>\n",
       "    </tr>\n",
       "  </thead>\n",
       "  <tbody>\n",
       "    <tr>\n",
       "      <th>0</th>\n",
       "      <td>dropoff_datetime</td>\n",
       "      <td>datetime64[ns]</td>\n",
       "    </tr>\n",
       "    <tr>\n",
       "      <th>1</th>\n",
       "      <td>dropoff_latitude</td>\n",
       "      <td>float64</td>\n",
       "    </tr>\n",
       "    <tr>\n",
       "      <th>2</th>\n",
       "      <td>dropoff_longitude</td>\n",
       "      <td>float64</td>\n",
       "    </tr>\n",
       "    <tr>\n",
       "      <th>3</th>\n",
       "      <td>fare_amount</td>\n",
       "      <td>float64</td>\n",
       "    </tr>\n",
       "    <tr>\n",
       "      <th>4</th>\n",
       "      <td>passenger_count</td>\n",
       "      <td>int64</td>\n",
       "    </tr>\n",
       "    <tr>\n",
       "      <th>5</th>\n",
       "      <td>payment_type</td>\n",
       "      <td>object</td>\n",
       "    </tr>\n",
       "    <tr>\n",
       "      <th>6</th>\n",
       "      <td>pickup_datetime</td>\n",
       "      <td>datetime64[ns]</td>\n",
       "    </tr>\n",
       "    <tr>\n",
       "      <th>7</th>\n",
       "      <td>pickup_latitude</td>\n",
       "      <td>float64</td>\n",
       "    </tr>\n",
       "    <tr>\n",
       "      <th>8</th>\n",
       "      <td>pickup_longitude</td>\n",
       "      <td>float64</td>\n",
       "    </tr>\n",
       "    <tr>\n",
       "      <th>9</th>\n",
       "      <td>rate_code</td>\n",
       "      <td>float64</td>\n",
       "    </tr>\n",
       "    <tr>\n",
       "      <th>10</th>\n",
       "      <td>store_and_fwd_flag</td>\n",
       "      <td>float64</td>\n",
       "    </tr>\n",
       "    <tr>\n",
       "      <th>11</th>\n",
       "      <td>surcharge</td>\n",
       "      <td>float64</td>\n",
       "    </tr>\n",
       "    <tr>\n",
       "      <th>12</th>\n",
       "      <td>tip_amount</td>\n",
       "      <td>float64</td>\n",
       "    </tr>\n",
       "    <tr>\n",
       "      <th>13</th>\n",
       "      <td>tolls_amount</td>\n",
       "      <td>float64</td>\n",
       "    </tr>\n",
       "    <tr>\n",
       "      <th>14</th>\n",
       "      <td>total_amount</td>\n",
       "      <td>float64</td>\n",
       "    </tr>\n",
       "    <tr>\n",
       "      <th>15</th>\n",
       "      <td>trip_distance</td>\n",
       "      <td>float64</td>\n",
       "    </tr>\n",
       "    <tr>\n",
       "      <th>16</th>\n",
       "      <td>vendor_id</td>\n",
       "      <td>object</td>\n",
       "    </tr>\n",
       "  </tbody>\n",
       "</table>\n",
       "</div>"
      ],
      "text/plain": [
       "                column            type\n",
       "0     dropoff_datetime  datetime64[ns]\n",
       "1     dropoff_latitude         float64\n",
       "2    dropoff_longitude         float64\n",
       "3          fare_amount         float64\n",
       "4      passenger_count           int64\n",
       "5         payment_type          object\n",
       "6      pickup_datetime  datetime64[ns]\n",
       "7      pickup_latitude         float64\n",
       "8     pickup_longitude         float64\n",
       "9            rate_code         float64\n",
       "10  store_and_fwd_flag         float64\n",
       "11           surcharge         float64\n",
       "12          tip_amount         float64\n",
       "13        tolls_amount         float64\n",
       "14        total_amount         float64\n",
       "15       trip_distance         float64\n",
       "16           vendor_id          object"
      ]
     },
     "execution_count": 12,
     "metadata": {},
     "output_type": "execute_result"
    }
   ],
   "source": [
    "dataset_information[['column','type']]"
   ]
  },
  {
   "cell_type": "markdown",
   "metadata": {},
   "source": [
    "Com o intuito de evitar possíveis problemas, será feita uma análise das colunas que estão sendo utilizadas como texto (object)."
   ]
  },
  {
   "cell_type": "code",
   "execution_count": 13,
   "metadata": {},
   "outputs": [
    {
     "data": {
      "text/plain": [
       "payment_type\n",
       "CASH         42044\n",
       "CREDIT         966\n",
       "Cash         39152\n",
       "Credit       17488\n",
       "Dispute         53\n",
       "No Charge      297\n",
       "Name: vendor_id, dtype: int64"
      ]
     },
     "execution_count": 13,
     "metadata": {},
     "output_type": "execute_result"
    }
   ],
   "source": [
    "df.groupby('payment_type').count()['vendor_id']"
   ]
  },
  {
   "cell_type": "markdown",
   "metadata": {},
   "source": [
    "### Tabela 01:  Trips"
   ]
  },
  {
   "cell_type": "code",
   "execution_count": 14,
   "metadata": {},
   "outputs": [],
   "source": [
    "import psycopg2\n",
    "\n",
    "conn = psycopg2.connect(\"host=localhost user=******* password=********* dbname=datasprints port=5432\")\n",
    "conn.set_session(autocommit=True)\n",
    "\n",
    "cur = conn.cursor()\n",
    "\n",
    "cur.execute(\"DROP TABLE IF EXISTS trips\")\n",
    "\n",
    "cur.execute(\"\"\"\n",
    "CREATE TABLE IF NOT EXISTS trips (\n",
    "    fim_datetime       TIMESTAMP,\n",
    "    fim_latitude       DECIMAL(9,6),\n",
    "    fim_longitude      DECIMAL(9,6),\n",
    "    bandeira           NUMERIC,\n",
    "    qt_passageiros     INT,\n",
    "    forma_de_pagamento VARCHAR(20),\n",
    "    inicio_datetime    TIMESTAMP,\n",
    "    inicio_latitude    DECIMAL(9,6),\n",
    "    inicio_longitude   DECIMAL(9,6),\n",
    "    rate_code          NUMERIC,\n",
    "    store_and_fwd_flag NUMERIC,\n",
    "    sobretaxa          NUMERIC,\n",
    "    gorgeta_valor      NUMERIC,\n",
    "    valor_pedagio      NUMERIC,\n",
    "    valor_total        NUMERIC,\n",
    "    distancia_total    NUMERIC,\n",
    "    vendor_id          CHAR(3),\n",
    "    PRIMARY KEY (inicio_datetime, fim_datetime)\n",
    "    )\n",
    "\"\"\")"
   ]
  },
  {
   "cell_type": "markdown",
   "metadata": {},
   "source": [
    "### Tabela 02: Vendors"
   ]
  },
  {
   "cell_type": "code",
   "execution_count": 15,
   "metadata": {},
   "outputs": [
    {
     "data": {
      "text/html": [
       "<div>\n",
       "<style scoped>\n",
       "    .dataframe tbody tr th:only-of-type {\n",
       "        vertical-align: middle;\n",
       "    }\n",
       "\n",
       "    .dataframe tbody tr th {\n",
       "        vertical-align: top;\n",
       "    }\n",
       "\n",
       "    .dataframe thead th {\n",
       "        text-align: right;\n",
       "    }\n",
       "</style>\n",
       "<table border=\"1\" class=\"dataframe\">\n",
       "  <thead>\n",
       "    <tr style=\"text-align: right;\">\n",
       "      <th></th>\n",
       "      <th>vendor_id</th>\n",
       "      <th>name</th>\n",
       "      <th>address</th>\n",
       "      <th>city</th>\n",
       "      <th>state</th>\n",
       "      <th>zip</th>\n",
       "      <th>country</th>\n",
       "      <th>contact</th>\n",
       "      <th>current</th>\n",
       "    </tr>\n",
       "  </thead>\n",
       "  <tbody>\n",
       "    <tr>\n",
       "      <th>0</th>\n",
       "      <td>CMT</td>\n",
       "      <td>Creative Mobile Technologies, LLC</td>\n",
       "      <td>950 4th Road Suite 78</td>\n",
       "      <td>Brooklyn</td>\n",
       "      <td>NY</td>\n",
       "      <td>11210</td>\n",
       "      <td>USA</td>\n",
       "      <td>contactCMT@gmail.com</td>\n",
       "      <td>Yes</td>\n",
       "    </tr>\n",
       "    <tr>\n",
       "      <th>1</th>\n",
       "      <td>VTS</td>\n",
       "      <td>VeriFone Inc</td>\n",
       "      <td>26 Summit St.</td>\n",
       "      <td>Flushing</td>\n",
       "      <td>NY</td>\n",
       "      <td>11354</td>\n",
       "      <td>USA</td>\n",
       "      <td>admin@vtstaxi.com</td>\n",
       "      <td>Yes</td>\n",
       "    </tr>\n",
       "    <tr>\n",
       "      <th>2</th>\n",
       "      <td>DDS</td>\n",
       "      <td>Dependable Driver Service, Inc</td>\n",
       "      <td>8554 North Homestead St.</td>\n",
       "      <td>Bronx</td>\n",
       "      <td>NY</td>\n",
       "      <td>10472</td>\n",
       "      <td>USA</td>\n",
       "      <td>9778896500</td>\n",
       "      <td>Yes</td>\n",
       "    </tr>\n",
       "    <tr>\n",
       "      <th>3</th>\n",
       "      <td>TS</td>\n",
       "      <td>Total Solutions Co</td>\n",
       "      <td>Five Boroughs Taxi Co.</td>\n",
       "      <td>Brooklyn</td>\n",
       "      <td>NY</td>\n",
       "      <td>11229</td>\n",
       "      <td>USA</td>\n",
       "      <td>mgmt@5btc.com</td>\n",
       "      <td>Yes</td>\n",
       "    </tr>\n",
       "    <tr>\n",
       "      <th>4</th>\n",
       "      <td>MT</td>\n",
       "      <td>Mega Taxi</td>\n",
       "      <td>4 East Jennings St.</td>\n",
       "      <td>Brooklyn</td>\n",
       "      <td>NY</td>\n",
       "      <td>11228</td>\n",
       "      <td>USA</td>\n",
       "      <td>contact@megataxico.com</td>\n",
       "      <td>No</td>\n",
       "    </tr>\n",
       "  </tbody>\n",
       "</table>\n",
       "</div>"
      ],
      "text/plain": [
       "  vendor_id                               name                   address  \\\n",
       "0       CMT  Creative Mobile Technologies, LLC     950 4th Road Suite 78   \n",
       "1       VTS                       VeriFone Inc             26 Summit St.   \n",
       "2       DDS     Dependable Driver Service, Inc  8554 North Homestead St.   \n",
       "3        TS                 Total Solutions Co    Five Boroughs Taxi Co.   \n",
       "4        MT                          Mega Taxi       4 East Jennings St.   \n",
       "\n",
       "       city state    zip country                 contact current  \n",
       "0  Brooklyn    NY  11210     USA    contactCMT@gmail.com     Yes  \n",
       "1  Flushing    NY  11354     USA       admin@vtstaxi.com     Yes  \n",
       "2     Bronx    NY  10472     USA              9778896500     Yes  \n",
       "3  Brooklyn    NY  11229     USA           mgmt@5btc.com     Yes  \n",
       "4  Brooklyn    NY  11228     USA  contact@megataxico.com      No  "
      ]
     },
     "execution_count": 15,
     "metadata": {},
     "output_type": "execute_result"
    }
   ],
   "source": [
    "pd.read_csv('lookups/data-vendor_lookup-csv.csv')"
   ]
  },
  {
   "cell_type": "code",
   "execution_count": 17,
   "metadata": {},
   "outputs": [],
   "source": [
    "cur.execute(\"DROP TABLE IF EXISTS vendors\")\n",
    "\n",
    "cur.execute(\"\"\"\n",
    "CREATE TABLE IF NOT EXISTS vendors (\n",
    "    vendor_id  VARCHAR(3) PRIMARY KEY,\n",
    "    nome       VARCHAR(60),\n",
    "    endereco   VARCHAR(60),\n",
    "    cidade     VARCHAR(40),\n",
    "    estado     CHAR(2),\n",
    "    cep        CHAR(5),\n",
    "    pais    CHAR(3),\n",
    "    contato    VARCHAR(50),\n",
    "    current    VARCHAR(3)\n",
    ")\n",
    "\"\"\")\n",
    "\n",
    "\n",
    "vendors = pd.read_csv('lookups/data-vendor_lookup-csv.csv')\n",
    "for index, row in vendors.iterrows():\n",
    "    cur.execute(\"\"\"\n",
    "    INSERT INTO vendors (vendor_id, nome, endereco, cidade, estado, cep, pais, contato, current)\n",
    "    VALUES (%s, %s, %s, %s, %s, %s, %s,  %s, %s)\n",
    "    \"\"\", list(row))"
   ]
  },
  {
   "cell_type": "code",
   "execution_count": 18,
   "metadata": {},
   "outputs": [
    {
     "name": "stdout",
     "output_type": "stream",
     "text": [
      "\u001b[0m\u001b[01;32mdata-payment_lookup-csv.csv\u001b[0m*  \u001b[01;32mdata-vendor_lookup-csv.csv\u001b[0m*\n"
     ]
    }
   ],
   "source": [
    "ls lookups"
   ]
  },
  {
   "cell_type": "markdown",
   "metadata": {},
   "source": [
    "### Homogeneização da variável payment_type"
   ]
  },
  {
   "cell_type": "code",
   "execution_count": 19,
   "metadata": {},
   "outputs": [
    {
     "data": {
      "text/plain": [
       "Cash         81196\n",
       "Credit       18454\n",
       "No Charge      297\n",
       "Dispute         53\n",
       "Name: payment_type, dtype: int64"
      ]
     },
     "execution_count": 19,
     "metadata": {},
     "output_type": "execute_result"
    }
   ],
   "source": [
    "# transformando o arquivo que contêm os valores a serem mapeados usando funções do linux.\n",
    "!head -19 'lookups/data-payment_lookup-csv.csv' | tail -17 > 'payment.csv'\n",
    "\n",
    "\n",
    "# transformando os valores em um dicionário\n",
    "lockup_payments = pd.read_csv('payment.csv', header=None)\n",
    "lockup_payments = dict(zip(lockup_payments[0], lockup_payments[1]))\n",
    "\n",
    "\n",
    "# utilizando o dicionário para a uniformização da variável payment_type\n",
    "df['payment_type'] = df['payment_type'].map(lockup_payments)\n",
    "\n",
    "df['payment_type'].value_counts()"
   ]
  },
  {
   "cell_type": "markdown",
   "metadata": {},
   "source": [
    "### Inserção dos valores na tabela"
   ]
  },
  {
   "cell_type": "code",
   "execution_count": 20,
   "metadata": {},
   "outputs": [],
   "source": [
    "df['rate_code'] = np.where(df['rate_code'].isnull(), None, df['rate_code'])\n",
    "df['store_and_fwd_flag'] = np.where(df['store_and_fwd_flag'].isnull(), None, df['store_and_fwd_flag'])"
   ]
  },
  {
   "cell_type": "code",
   "execution_count": 21,
   "metadata": {},
   "outputs": [],
   "source": [
    "df.to_csv('sample_new.csv', index=False, header=False, )\n",
    "\n",
    "with open('sample_new.csv', 'r') as f:\n",
    "    cur.copy_from(f, 'trips', sep=',', null=\"\")"
   ]
  },
  {
   "cell_type": "code",
   "execution_count": 22,
   "metadata": {},
   "outputs": [
    {
     "name": "stdout",
     "output_type": "stream",
     "text": [
      "(100000,)\n"
     ]
    }
   ],
   "source": [
    "cur.execute(\"SELECT COUNT(*) FROM trips\")\n",
    "results = cur.fetchone()\n",
    "print(results)"
   ]
  },
  {
   "cell_type": "markdown",
   "metadata": {},
   "source": [
    "### Distância média percorrida em viagens com até dois passageiros"
   ]
  },
  {
   "cell_type": "markdown",
   "metadata": {},
   "source": [
    "Um fato estranho é que existem algumas corridas em que não houve passageiros. No entanto, como essas observações apresentam alguns valores não nulos, tais como deslocamento (longitude - latitude) e pagamento do valor da bandeira, provavelmente, se trata de observações válidas."
   ]
  },
  {
   "cell_type": "code",
   "execution_count": 23,
   "metadata": {},
   "outputs": [
    {
     "data": {
      "text/plain": [
       "1    64558\n",
       "2    18266\n",
       "0       10\n",
       "Name: passenger_count, dtype: int64"
      ]
     },
     "execution_count": 23,
     "metadata": {},
     "output_type": "execute_result"
    }
   ],
   "source": [
    "df[df['passenger_count'] <= 2]['passenger_count'].value_counts()"
   ]
  },
  {
   "cell_type": "code",
   "execution_count": 24,
   "metadata": {},
   "outputs": [],
   "source": [
    "result_pandas = df[df['passenger_count'] <= 2].mean()['trip_distance']\n",
    "\n",
    "cur.execute(\"SELECT AVG(distancia_total) FROM trips WHERE qt_passageiros <= 2\")\n",
    "results_db = cur.fetchone()\n",
    "\n",
    "assert round(float(results_db[0]), 3) == round(result_pandas, 3)"
   ]
  },
  {
   "cell_type": "code",
   "execution_count": 25,
   "metadata": {},
   "outputs": [
    {
     "data": {
      "text/plain": [
       "(Decimal('2.65185975565589010'),)"
      ]
     },
     "execution_count": 25,
     "metadata": {},
     "output_type": "execute_result"
    }
   ],
   "source": [
    "results_db"
   ]
  },
  {
   "cell_type": "markdown",
   "metadata": {},
   "source": [
    "### Distribuição de corridas pagas em dinheiro"
   ]
  },
  {
   "cell_type": "code",
   "execution_count": 26,
   "metadata": {},
   "outputs": [],
   "source": [
    "month = df[df['payment_type'] == 'Cash'].set_index('pickup_datetime').resample('m').count()['dropoff_datetime']\n",
    "\n",
    "month.index = month.index.month\n",
    "month = month.reset_index()\n",
    "month = month.rename({'pickup_datetime':'mes', 'dropoff_datetime':'numero_de_corridas'}, axis=1)\n",
    "\n",
    "cur.execute(\"\"\"\n",
    "SELECT EXTRACT(month FROM inicio_datetime) AS month,\n",
    "      COUNT(*)\n",
    "FROM trips\n",
    "WHERE forma_de_pagamento = 'Cash'\n",
    "GROUP BY 1\n",
    "\"\"\")\n",
    "a = cur.fetchall()\n",
    "\n",
    "\n",
    "values_db = pd.DataFrame(list(a)).rename({0: 'mes', 1: 'numero_de_corridas'}, axis=1)\n",
    "values_db['mes'] = values_db['mes'].astype('int')\n",
    "\n",
    "assert month.equals(values_db)"
   ]
  },
  {
   "cell_type": "markdown",
   "metadata": {},
   "source": [
    "### Quantidade total arrecadada por empresa"
   ]
  },
  {
   "cell_type": "code",
   "execution_count": 27,
   "metadata": {},
   "outputs": [
    {
     "name": "stdout",
     "output_type": "stream",
     "text": [
      "Valores obtidos utilizando pandas\n",
      "\n",
      "  vendor_id  total_amount\n",
      "0       CMT     486849.66\n",
      "2       VTS     469911.34\n",
      "1       DDS      68757.38\n",
      "Valores obtidos utilizando a database\n",
      "\n",
      "                                nome  total_amount\n",
      "0  Creative Mobile Technologies, LLC     486849.66\n",
      "1                       VeriFone Inc     469911.34\n",
      "2     Dependable Driver Service, Inc      68757.38\n"
     ]
    }
   ],
   "source": [
    "vendor_total = df.groupby('vendor_id').sum()['total_amount'].reset_index().sort_values(by='total_amount', \n",
    "                                                                                       ascending=False)\n",
    "\n",
    "cur.execute(\"\"\"\n",
    "SELECT nome, SUM(valor_total)\n",
    "FROM trips t\n",
    "JOIN vendors v\n",
    "ON t.vendor_id = v.vendor_id\n",
    "GROUP BY 1\n",
    "ORDER BY 2 DESC\n",
    "\"\"\")\n",
    "results = cur.fetchall()\n",
    "results = pd.DataFrame(results).rename({0:'nome',1:'total_amount'}, axis=1)\n",
    "results['total_amount'] = round(results['total_amount'].astype('float'), 2)\n",
    "\n",
    "print(\"Valores obtidos utilizando pandas\\n\")\n",
    "print(vendor_total)\n",
    "print(\"Valores obtidos utilizando a database\\n\")\n",
    "print(results)"
   ]
  },
  {
   "cell_type": "markdown",
   "metadata": {},
   "source": [
    "##"
   ]
  },
  {
   "cell_type": "code",
   "execution_count": 46,
   "metadata": {},
   "outputs": [],
   "source": [
    "cur.execute(\"\"\"\n",
    "SELECT EXTRACT(dow from t1.inicio_datetime), AVG(t1.tempo_total)\n",
    "FROM (SELECT (EXTRACT(epoch FROM fim_datetime) - EXTRACT(epoch FROM inicio_datetime)) / 60 AS tempo_total,\n",
    "        inicio_datetime\n",
    "    FROM trips) t1\n",
    "WHERE EXTRACT(dow from t1.inicio_datetime) IN (0.0, 6.0)\n",
    "GROUP BY 1\n",
    "\"\"\")\n",
    "results = cur.fetchall()\n",
    "\n",
    "results = pd.DataFrame(results)\n",
    "\n",
    "# os domingos são representados como 0 na função dow, enquanto os sábados são representados com o valor 6.\n",
    "\n",
    "results[0] = results[0].map({6.0: 'Sábado', 0.0: 'Domingo'})\n",
    "results = results.rename({0.0: 'dia_da_semana', 1.0: 'tempo_médio'}, axis=1)\n",
    "\n",
    "\n",
    "df['tempo_corrida_minutos'] = (df['dropoff_datetime'] - df['pickup_datetime']).dt.total_seconds() / 60\n",
    "df['weekday'] = df['pickup_datetime'].dt.weekday\n",
    "df['weekday'] = df['weekday'].map({5.0: 'Sábado', 6.0: 'Domingo'})\n",
    "\n",
    "\n"
   ]
  },
  {
   "cell_type": "markdown",
   "metadata": {},
   "source": [
    "#### Resultados no Pandas"
   ]
  },
  {
   "cell_type": "code",
   "execution_count": 49,
   "metadata": {},
   "outputs": [
    {
     "name": "stdout",
     "output_type": "stream",
     "text": [
      "weekday\n",
      "Domingo    8.985822\n",
      "Sábado     8.989026\n",
      "Name: tempo_corrida_minutos, dtype: float64\n"
     ]
    }
   ],
   "source": [
    "print(df.groupby('weekday').mean()['tempo_corrida_minutos'])"
   ]
  },
  {
   "cell_type": "markdown",
   "metadata": {},
   "source": [
    "#### Resultados no PostgreSQL"
   ]
  },
  {
   "cell_type": "code",
   "execution_count": 48,
   "metadata": {},
   "outputs": [
    {
     "name": "stdout",
     "output_type": "stream",
     "text": [
      "  dia_da_semana  tempo_médio\n",
      "0       Domingo     8.985822\n",
      "1        Sábado     8.989026\n"
     ]
    }
   ],
   "source": [
    "print(results)"
   ]
  },
  {
   "cell_type": "code",
   "execution_count": 38,
   "metadata": {},
   "outputs": [
    {
     "data": {
      "text/plain": [
       "(0, 200)"
      ]
     },
     "execution_count": 38,
     "metadata": {},
     "output_type": "execute_result"
    },
    {
     "data": {
      "image/png": "[encoded data removed]",
      "text/plain": [
       "<Figure size 864x432 with 1 Axes>"
      ]
     },
     "metadata": {},
     "output_type": "display_data"
    }
   ],
   "source": [
    "cur.execute(\"\"\"\n",
    "SELECT inicio_datetime::date, SUM(gorgeta_valor)\n",
    "FROM trips\n",
    "WHERE EXTRACT(month FROM inicio_datetime) >= 10\n",
    "AND EXTRACT(year FROM inicio_datetime) = 2012\n",
    "GROUP BY 1\n",
    "\"\"\")\n",
    "results = cur.fetchall()\n",
    "results = pd.DataFrame(results).rename({0: 'data', 1: 'total_de_gorgetas'}, axis=1)\n",
    "results['total_de_gorgetas'] = results['total_de_gorgetas'].astype('float')\n",
    "\n",
    "plt.figure(figsize=(12,6))\n",
    "sns.lineplot(data=results, x='data', y='total_de_gorgetas')\n",
    "plt.ylim(0, 200 )"
   ]
  }
 ],
 "metadata": {
  "kernelspec": {
   "display_name": "Python 3",
   "language": "python",
   "name": "python3"
  },
  "language_info": {
   "codemirror_mode": {
    "name": "ipython",
    "version": 3
   },
   "file_extension": ".py",
   "mimetype": "text/x-python",
   "name": "python",
   "nbconvert_exporter": "python",
   "pygments_lexer": "ipython3",
   "version": "3.7.3"
  }
 },
 "nbformat": 4,
 "nbformat_minor": 4
}
